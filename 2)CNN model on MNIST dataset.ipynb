{
 "cells": [
  {
   "cell_type": "code",
   "execution_count": 98,
   "id": "dd972ccc-1bc9-470b-a8b7-db9e323e1349",
   "metadata": {},
   "outputs": [],
   "source": [
    "import pandas as pd"
   ]
  },
  {
   "cell_type": "code",
   "execution_count": 99,
   "id": "66422710-d966-443e-9bec-ad1215ee41d8",
   "metadata": {},
   "outputs": [],
   "source": [
    "mnist = pd.read_csv(r'D:\\imarticus\\deep learning\\mnist_train.csv')"
   ]
  },
  {
   "cell_type": "code",
   "execution_count": 100,
   "id": "db1f4cbf-8b18-4b9f-9e35-0473aa78fac3",
   "metadata": {},
   "outputs": [],
   "source": [
    "from sklearn.model_selection import train_test_split"
   ]
  },
  {
   "cell_type": "code",
   "execution_count": 101,
   "id": "6af0868d-09e4-4680-86e4-fe4ff01884e4",
   "metadata": {},
   "outputs": [],
   "source": [
    "mnist_train,mnist_test  = train_test_split(mnist,test_size=.2)"
   ]
  },
  {
   "cell_type": "code",
   "execution_count": 102,
   "id": "f4de494a-361a-4cc1-959f-0b96088aa7a9",
   "metadata": {},
   "outputs": [
    {
     "data": {
      "text/html": [
       "<div>\n",
       "<style scoped>\n",
       "    .dataframe tbody tr th:only-of-type {\n",
       "        vertical-align: middle;\n",
       "    }\n",
       "\n",
       "    .dataframe tbody tr th {\n",
       "        vertical-align: top;\n",
       "    }\n",
       "\n",
       "    .dataframe thead th {\n",
       "        text-align: right;\n",
       "    }\n",
       "</style>\n",
       "<table border=\"1\" class=\"dataframe\">\n",
       "  <thead>\n",
       "    <tr style=\"text-align: right;\">\n",
       "      <th></th>\n",
       "      <th>label</th>\n",
       "      <th>1x1</th>\n",
       "      <th>1x2</th>\n",
       "      <th>1x3</th>\n",
       "      <th>1x4</th>\n",
       "      <th>1x5</th>\n",
       "      <th>1x6</th>\n",
       "      <th>1x7</th>\n",
       "      <th>1x8</th>\n",
       "      <th>1x9</th>\n",
       "      <th>...</th>\n",
       "      <th>28x19</th>\n",
       "      <th>28x20</th>\n",
       "      <th>28x21</th>\n",
       "      <th>28x22</th>\n",
       "      <th>28x23</th>\n",
       "      <th>28x24</th>\n",
       "      <th>28x25</th>\n",
       "      <th>28x26</th>\n",
       "      <th>28x27</th>\n",
       "      <th>28x28</th>\n",
       "    </tr>\n",
       "  </thead>\n",
       "  <tbody>\n",
       "    <tr>\n",
       "      <th>0</th>\n",
       "      <td>5</td>\n",
       "      <td>0</td>\n",
       "      <td>0</td>\n",
       "      <td>0</td>\n",
       "      <td>0</td>\n",
       "      <td>0</td>\n",
       "      <td>0</td>\n",
       "      <td>0</td>\n",
       "      <td>0</td>\n",
       "      <td>0</td>\n",
       "      <td>...</td>\n",
       "      <td>0</td>\n",
       "      <td>0</td>\n",
       "      <td>0</td>\n",
       "      <td>0</td>\n",
       "      <td>0</td>\n",
       "      <td>0</td>\n",
       "      <td>0</td>\n",
       "      <td>0</td>\n",
       "      <td>0</td>\n",
       "      <td>0</td>\n",
       "    </tr>\n",
       "    <tr>\n",
       "      <th>1</th>\n",
       "      <td>0</td>\n",
       "      <td>0</td>\n",
       "      <td>0</td>\n",
       "      <td>0</td>\n",
       "      <td>0</td>\n",
       "      <td>0</td>\n",
       "      <td>0</td>\n",
       "      <td>0</td>\n",
       "      <td>0</td>\n",
       "      <td>0</td>\n",
       "      <td>...</td>\n",
       "      <td>0</td>\n",
       "      <td>0</td>\n",
       "      <td>0</td>\n",
       "      <td>0</td>\n",
       "      <td>0</td>\n",
       "      <td>0</td>\n",
       "      <td>0</td>\n",
       "      <td>0</td>\n",
       "      <td>0</td>\n",
       "      <td>0</td>\n",
       "    </tr>\n",
       "    <tr>\n",
       "      <th>2</th>\n",
       "      <td>4</td>\n",
       "      <td>0</td>\n",
       "      <td>0</td>\n",
       "      <td>0</td>\n",
       "      <td>0</td>\n",
       "      <td>0</td>\n",
       "      <td>0</td>\n",
       "      <td>0</td>\n",
       "      <td>0</td>\n",
       "      <td>0</td>\n",
       "      <td>...</td>\n",
       "      <td>0</td>\n",
       "      <td>0</td>\n",
       "      <td>0</td>\n",
       "      <td>0</td>\n",
       "      <td>0</td>\n",
       "      <td>0</td>\n",
       "      <td>0</td>\n",
       "      <td>0</td>\n",
       "      <td>0</td>\n",
       "      <td>0</td>\n",
       "    </tr>\n",
       "    <tr>\n",
       "      <th>3</th>\n",
       "      <td>1</td>\n",
       "      <td>0</td>\n",
       "      <td>0</td>\n",
       "      <td>0</td>\n",
       "      <td>0</td>\n",
       "      <td>0</td>\n",
       "      <td>0</td>\n",
       "      <td>0</td>\n",
       "      <td>0</td>\n",
       "      <td>0</td>\n",
       "      <td>...</td>\n",
       "      <td>0</td>\n",
       "      <td>0</td>\n",
       "      <td>0</td>\n",
       "      <td>0</td>\n",
       "      <td>0</td>\n",
       "      <td>0</td>\n",
       "      <td>0</td>\n",
       "      <td>0</td>\n",
       "      <td>0</td>\n",
       "      <td>0</td>\n",
       "    </tr>\n",
       "    <tr>\n",
       "      <th>4</th>\n",
       "      <td>9</td>\n",
       "      <td>0</td>\n",
       "      <td>0</td>\n",
       "      <td>0</td>\n",
       "      <td>0</td>\n",
       "      <td>0</td>\n",
       "      <td>0</td>\n",
       "      <td>0</td>\n",
       "      <td>0</td>\n",
       "      <td>0</td>\n",
       "      <td>...</td>\n",
       "      <td>0</td>\n",
       "      <td>0</td>\n",
       "      <td>0</td>\n",
       "      <td>0</td>\n",
       "      <td>0</td>\n",
       "      <td>0</td>\n",
       "      <td>0</td>\n",
       "      <td>0</td>\n",
       "      <td>0</td>\n",
       "      <td>0</td>\n",
       "    </tr>\n",
       "  </tbody>\n",
       "</table>\n",
       "<p>5 rows × 785 columns</p>\n",
       "</div>"
      ],
      "text/plain": [
       "   label  1x1  1x2  1x3  1x4  1x5  1x6  1x7  1x8  1x9  ...  28x19  28x20  \\\n",
       "0      5    0    0    0    0    0    0    0    0    0  ...      0      0   \n",
       "1      0    0    0    0    0    0    0    0    0    0  ...      0      0   \n",
       "2      4    0    0    0    0    0    0    0    0    0  ...      0      0   \n",
       "3      1    0    0    0    0    0    0    0    0    0  ...      0      0   \n",
       "4      9    0    0    0    0    0    0    0    0    0  ...      0      0   \n",
       "\n",
       "   28x21  28x22  28x23  28x24  28x25  28x26  28x27  28x28  \n",
       "0      0      0      0      0      0      0      0      0  \n",
       "1      0      0      0      0      0      0      0      0  \n",
       "2      0      0      0      0      0      0      0      0  \n",
       "3      0      0      0      0      0      0      0      0  \n",
       "4      0      0      0      0      0      0      0      0  \n",
       "\n",
       "[5 rows x 785 columns]"
      ]
     },
     "execution_count": 102,
     "metadata": {},
     "output_type": "execute_result"
    }
   ],
   "source": [
    "mnist.head()"
   ]
  },
  {
   "cell_type": "code",
   "execution_count": 103,
   "id": "9cadd7c3-6511-4fa1-9e65-a04a1c8d7bcc",
   "metadata": {},
   "outputs": [],
   "source": [
    "mnist_train_x = mnist.iloc[:,1::]\n",
    "mnist_train_y = mnist.iloc[:,0]\n",
    "\n",
    "mnist_test_x = mnist.iloc[:,1::]\n",
    "mnist_test_y = mnist.iloc[:,0]"
   ]
  },
  {
   "cell_type": "code",
   "execution_count": 104,
   "id": "ff6713ca-d311-49d3-a43b-326941d88c91",
   "metadata": {},
   "outputs": [],
   "source": [
    "import numpy as np"
   ]
  },
  {
   "cell_type": "code",
   "execution_count": 105,
   "id": "3361a39a-d742-4210-ab19-0dfe489bdba7",
   "metadata": {},
   "outputs": [],
   "source": [
    "mnist_train_x = np.array(mnist_train_x)\n",
    "mnist_test_x = np.array(mnist_test_x)"
   ]
  },
  {
   "cell_type": "code",
   "execution_count": 106,
   "id": "981332bc-2f67-4b2d-a471-6e991a62fa72",
   "metadata": {},
   "outputs": [],
   "source": [
    "mnist_train_x = mnist_train_x.reshape(-1,28,28,1)\n",
    "mnist_test_x = mnist_test_x.reshape(-1,28,28,1)"
   ]
  },
  {
   "cell_type": "code",
   "execution_count": 107,
   "id": "9197f2c1-910c-4617-b1ee-2f4c5a55f5a6",
   "metadata": {},
   "outputs": [],
   "source": [
    "#!pip install opencv-python-headless\n"
   ]
  },
  {
   "cell_type": "code",
   "execution_count": 108,
   "id": "ce3acb7a-ff1e-420c-9cb3-7a12fd43ba95",
   "metadata": {},
   "outputs": [],
   "source": [
    "import tensorflow as tf\n",
    "import keras\n",
    "import os\n",
    "import cv2\n",
    "from keras.models import Sequential\n",
    "from keras.layers import Conv2D,MaxPool2D,Flatten,Dense,Dropout ,AvgPool2D\n",
    "from tensorflow.keras.utils import to_categorical\n"
   ]
  },
  {
   "cell_type": "code",
   "execution_count": 109,
   "id": "56ab62e8-d2eb-4eeb-bfb5-060daa5d7dcd",
   "metadata": {},
   "outputs": [],
   "source": [
    "mnist_train_y = to_categorical(mnist_tarin_y)"
   ]
  },
  {
   "cell_type": "code",
   "execution_count": 110,
   "id": "7d9b1ec7-7efe-46bb-ad06-d510e98e2179",
   "metadata": {},
   "outputs": [
    {
     "name": "stderr",
     "output_type": "stream",
     "text": [
      "C:\\Users\\salun\\AppData\\Roaming\\Python\\Python312\\site-packages\\keras\\src\\layers\\convolutional\\base_conv.py:107: UserWarning: Do not pass an `input_shape`/`input_dim` argument to a layer. When using Sequential models, prefer using an `Input(shape)` object as the first layer in the model instead.\n",
      "  super().__init__(activity_regularizer=activity_regularizer, **kwargs)\n"
     ]
    }
   ],
   "source": [
    "model = Sequential()\n",
    "model.add(Conv2D(filters=64,kernel_size=(2,2),activation='relu',padding='same',input_shape=(28,28,1)))\n",
    "\n"
   ]
  },
  {
   "cell_type": "code",
   "execution_count": 111,
   "id": "ee922b5a-497d-4d50-bbee-fdc01b843b83",
   "metadata": {},
   "outputs": [],
   "source": [
    "model.add(AvgPool2D(pool_size=(2,2)))\n",
    "\n",
    "model.add(Conv2D(filters=64,kernel_size=(2,2),activation='relu'))\n",
    "model.add(AvgPool2D(pool_size=(2,2)))\n",
    "\n",
    "model.add(Flatten())\n",
    "model.add(Dense(10,activation='softmax'))"
   ]
  },
  {
   "cell_type": "code",
   "execution_count": 112,
   "id": "7422ac20-3599-47e2-9a40-a1d9c2cbc33d",
   "metadata": {},
   "outputs": [],
   "source": [
    "adam = tf.keras.optimizers.Adam(learning_rate=0.01)\n",
    "model.compile(optimizer=adam, loss='categorical_crossentropy', metrics=['accuracy'])\n"
   ]
  },
  {
   "cell_type": "code",
   "execution_count": 125,
   "id": "964437bd-f9dd-4eda-92e5-0e6cbf436543",
   "metadata": {},
   "outputs": [
    {
     "name": "stdout",
     "output_type": "stream",
     "text": [
      "Epoch 1/5\n",
      "\u001b[1m750/750\u001b[0m \u001b[32m━━━━━━━━━━━━━━━━━━━━\u001b[0m\u001b[37m\u001b[0m \u001b[1m28s\u001b[0m 37ms/step - accuracy: 0.9715 - loss: 0.0972 - val_accuracy: 0.9700 - val_loss: 0.1023\n",
      "Epoch 2/5\n",
      "\u001b[1m750/750\u001b[0m \u001b[32m━━━━━━━━━━━━━━━━━━━━\u001b[0m\u001b[37m\u001b[0m \u001b[1m40s\u001b[0m 36ms/step - accuracy: 0.9716 - loss: 0.0915 - val_accuracy: 0.9711 - val_loss: 0.1029\n",
      "Epoch 3/5\n",
      "\u001b[1m750/750\u001b[0m \u001b[32m━━━━━━━━━━━━━━━━━━━━\u001b[0m\u001b[37m\u001b[0m \u001b[1m27s\u001b[0m 36ms/step - accuracy: 0.9734 - loss: 0.0869 - val_accuracy: 0.9703 - val_loss: 0.1066\n",
      "Epoch 4/5\n",
      "\u001b[1m750/750\u001b[0m \u001b[32m━━━━━━━━━━━━━━━━━━━━\u001b[0m\u001b[37m\u001b[0m \u001b[1m26s\u001b[0m 35ms/step - accuracy: 0.9733 - loss: 0.0882 - val_accuracy: 0.9711 - val_loss: 0.1040\n",
      "Epoch 5/5\n",
      "\u001b[1m750/750\u001b[0m \u001b[32m━━━━━━━━━━━━━━━━━━━━\u001b[0m\u001b[37m\u001b[0m \u001b[1m26s\u001b[0m 35ms/step - accuracy: 0.9737 - loss: 0.0851 - val_accuracy: 0.9722 - val_loss: 0.1037\n"
     ]
    }
   ],
   "source": [
    "history=model.fit(mnist_train_x,mnist_train_y,batch_size=64,epochs=5,validation_split=.2)"
   ]
  },
  {
   "cell_type": "code",
   "execution_count": 133,
   "id": "4c8b83c9-b20b-44e4-a69d-83e1428ff844",
   "metadata": {},
   "outputs": [
    {
     "name": "stdout",
     "output_type": "stream",
     "text": [
      "\u001b[1m1875/1875\u001b[0m \u001b[32m━━━━━━━━━━━━━━━━━━━━\u001b[0m\u001b[37m\u001b[0m \u001b[1m16s\u001b[0m 8ms/step\n"
     ]
    }
   ],
   "source": [
    "pred = model.predict(mnist_test_x)"
   ]
  },
  {
   "cell_type": "code",
   "execution_count": 134,
   "id": "85552577-44e8-4dd4-87f7-5b0eea8caf96",
   "metadata": {},
   "outputs": [],
   "source": [
    "pred_classes = pred.argmax(axis=1)"
   ]
  },
  {
   "cell_type": "code",
   "execution_count": 135,
   "id": "725b9c5a-81d2-4f4a-8480-a5c0f951d370",
   "metadata": {},
   "outputs": [],
   "source": [
    "from sklearn.metrics import classification_report,confusion_matrix"
   ]
  },
  {
   "cell_type": "code",
   "execution_count": 136,
   "id": "f80a9148-3f75-4293-976b-3fd0cec2f340",
   "metadata": {},
   "outputs": [
    {
     "data": {
      "text/plain": [
       "array([[5884,    2,    0,    2,    4,    0,   22,    0,    5,    4],\n",
       "       [   2, 6694,    8,    7,    3,    5,    2,   11,    9,    1],\n",
       "       [  19,   31, 5774,   31,   10,    0,    3,   38,   41,   11],\n",
       "       [   2,    8,   23, 5961,    1,   80,    3,   12,   26,   15],\n",
       "       [   3,   20,    2,    1, 5716,    1,    8,   12,    5,   74],\n",
       "       [   7,    1,    0,   10,    4, 5350,   26,    0,    8,   15],\n",
       "       [  12,    6,    0,    0,   20,    7, 5870,    0,    3,    0],\n",
       "       [   8,   17,   16,   12,   14,    1,    0, 6102,   12,   83],\n",
       "       [  42,   51,   16,   14,   12,   52,   39,   11, 5555,   59],\n",
       "       [  24,   14,    1,   12,   37,   13,    1,   29,   13, 5805]],\n",
       "      dtype=int64)"
      ]
     },
     "execution_count": 136,
     "metadata": {},
     "output_type": "execute_result"
    }
   ],
   "source": [
    "tab=confusion_matrix(mnist_test_y,pred_classes)\n",
    "tab"
   ]
  },
  {
   "cell_type": "code",
   "execution_count": 137,
   "id": "536d0ab6-c81d-423c-942f-09b921912a5c",
   "metadata": {},
   "outputs": [
    {
     "name": "stdout",
     "output_type": "stream",
     "text": [
      "              precision    recall  f1-score   support\n",
      "\n",
      "           0       0.98      0.99      0.99      5923\n",
      "           1       0.98      0.99      0.99      6742\n",
      "           2       0.99      0.97      0.98      5958\n",
      "           3       0.99      0.97      0.98      6131\n",
      "           4       0.98      0.98      0.98      5842\n",
      "           5       0.97      0.99      0.98      5421\n",
      "           6       0.98      0.99      0.99      5918\n",
      "           7       0.98      0.97      0.98      6265\n",
      "           8       0.98      0.95      0.96      5851\n",
      "           9       0.96      0.98      0.97      5949\n",
      "\n",
      "    accuracy                           0.98     60000\n",
      "   macro avg       0.98      0.98      0.98     60000\n",
      "weighted avg       0.98      0.98      0.98     60000\n",
      "\n"
     ]
    }
   ],
   "source": [
    "print(classification_report(mnist_test_y,pred_classes))"
   ]
  },
  {
   "cell_type": "code",
   "execution_count": 138,
   "id": "86ac7d1d-48f5-4862-a331-3f935dbeb9fa",
   "metadata": {},
   "outputs": [
    {
     "data": {
      "text/plain": [
       "0.9785166666666667"
      ]
     },
     "execution_count": 138,
     "metadata": {},
     "output_type": "execute_result"
    }
   ],
   "source": [
    "tab.diagonal().sum()/tab.sum()"
   ]
  },
  {
   "cell_type": "code",
   "execution_count": 152,
   "id": "1027b1ec-7acb-4d01-9ec1-3f77ebd4176f",
   "metadata": {},
   "outputs": [],
   "source": [
    "import matplotlib.pyplot as plt"
   ]
  },
  {
   "cell_type": "code",
   "execution_count": 156,
   "id": "c194919f-f39b-4a4a-9332-b5a205779182",
   "metadata": {},
   "outputs": [
    {
     "data": {
      "image/png": "[encoded data removed]",
      "text/plain": [
       "<Figure size 1000x1000 with 1 Axes>"
      ]
     },
     "metadata": {},
     "output_type": "display_data"
    }
   ],
   "source": [
    "acbd = pd.DataFrame(history.history)\n",
    "plt.figure(figsize=(10, 10))\n",
    "plt.plot(acbd['loss'], color='red', label='train', marker='*') \n",
    "plt.plot(acbd['val_loss'], color='green', label='validation', marker='*')\n",
    "plt.legend()\n",
    "plt.grid()\n",
    "plt.title('Cross Validation')\n",
    "plt.xlabel('Epochs') \n",
    "plt.ylabel('Loss')\n",
    "plt.show()"
   ]
  },
  {
   "cell_type": "code",
   "execution_count": null,
   "id": "29a1c9fb-9e55-4b8e-8cfb-064d5add3817",
   "metadata": {},
   "outputs": [],
   "source": [
    "# so after th epoch model validation error get increses while tarin error stabalize so after 3rd epochs model will get overffited"
   ]
  }
 ],
 "metadata": {
  "kernelspec": {
   "display_name": "Python 3 (ipykernel)",
   "language": "python",
   "name": "python3"
  },
  "language_info": {
   "codemirror_mode": {
    "name": "ipython",
    "version": 3
   },
   "file_extension": ".py",
   "mimetype": "text/x-python",
   "name": "python",
   "nbconvert_exporter": "python",
   "pygments_lexer": "ipython3",
   "version": "3.12.4"
  }
 },
 "nbformat": 4,
 "nbformat_minor": 5
}
